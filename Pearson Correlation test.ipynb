{
 "cells": [
  {
   "cell_type": "markdown",
   "id": "b0c0bcb0",
   "metadata": {},
   "source": [
    "# Test for two samples normal and independent"
   ]
  },
  {
   "cell_type": "markdown",
   "id": "1038b35b",
   "metadata": {},
   "source": [
    "### First - Import the libraries"
   ]
  },
  {
   "cell_type": "code",
   "execution_count": 3,
   "id": "f62625c4",
   "metadata": {},
   "outputs": [],
   "source": [
    "import scipy.stats as stats\n",
    "import pandas as pd\n",
    "import numpy as np\n",
    "from scipy.stats import mstats"
   ]
  },
  {
   "cell_type": "markdown",
   "id": "920eefd3",
   "metadata": {},
   "source": [
    "### Second - import the data"
   ]
  },
  {
   "cell_type": "code",
   "execution_count": 40,
   "id": "145345b3",
   "metadata": {},
   "outputs": [
    {
     "name": "stdout",
     "output_type": "stream",
     "text": [
      "       A    B\n",
      "0     71  719\n",
      "1    157  759\n",
      "2    138  938\n",
      "3    160  990\n",
      "4    194  971\n",
      "..   ...  ...\n",
      "169  172  595\n",
      "170  126  829\n",
      "171   88  673\n",
      "172   89  566\n",
      "173   74  797\n",
      "\n",
      "[174 rows x 2 columns]\n"
     ]
    }
   ],
   "source": [
    "df = pd.read_csv('data_Normal.csv')\n",
    "print(df)"
   ]
  },
  {
   "cell_type": "markdown",
   "id": "a0b4cef4",
   "metadata": {},
   "source": [
    "### Third - Test the Normality of samples"
   ]
  },
  {
   "cell_type": "code",
   "execution_count": 41,
   "id": "1212717d",
   "metadata": {},
   "outputs": [],
   "source": [
    "a = df['A']\n",
    "b = df['B']"
   ]
  },
  {
   "cell_type": "markdown",
   "id": "9d60bd9e",
   "metadata": {},
   "source": [
    "### Column A"
   ]
  },
  {
   "cell_type": "code",
   "execution_count": 42,
   "id": "fa1b43b1",
   "metadata": {},
   "outputs": [
    {
     "name": "stdout",
     "output_type": "stream",
     "text": [
      "120.96551724137932\n",
      "42.78050051989178\n"
     ]
    }
   ],
   "source": [
    "average_a = np.mean(a)\n",
    "print(average_a)\n",
    "standard_deviation_a = np.std(a-1)\n",
    "print(standard_deviation_a)"
   ]
  },
  {
   "cell_type": "code",
   "execution_count": 43,
   "id": "95f2bd28",
   "metadata": {},
   "outputs": [
    {
     "name": "stdout",
     "output_type": "stream",
     "text": [
      "0.09436714526138751\n",
      "0.08448794737402987\n"
     ]
    }
   ],
   "source": [
    "test_value_a, p_value_a = stats.kstest(a, cdf='norm', args=(average_a, standard_deviation_a), N=len(a))\n",
    "print(test_value_a)\n",
    "print(p_value_a)"
   ]
  },
  {
   "cell_type": "code",
   "execution_count": 44,
   "id": "952afabc",
   "metadata": {},
   "outputs": [
    {
     "name": "stdout",
     "output_type": "stream",
     "text": [
      "The test presented with 95% confidence that the data behaved like a normal distribution.\n"
     ]
    }
   ],
   "source": [
    "if p_value_a > 0.05:\n",
    "    print(\"The test presented with 95% confidence that the data behaved like a normal distribution.\")\n",
    "else:\n",
    "    print(\"The test presented with 95% confidence that the data did not behave like a normal distribution.\")"
   ]
  },
  {
   "cell_type": "markdown",
   "id": "2ba7ff64",
   "metadata": {},
   "source": [
    "### Column B"
   ]
  },
  {
   "cell_type": "code",
   "execution_count": 45,
   "id": "f9f5f323",
   "metadata": {},
   "outputs": [
    {
     "name": "stdout",
     "output_type": "stream",
     "text": [
      "760.264367816092\n",
      "143.6367512740189\n"
     ]
    }
   ],
   "source": [
    "average_b = np.mean(b)\n",
    "print(average_b)\n",
    "standard_deviation_b = np.std(b-1)\n",
    "print(standard_deviation_b)"
   ]
  },
  {
   "cell_type": "code",
   "execution_count": 46,
   "id": "197bb713",
   "metadata": {},
   "outputs": [
    {
     "name": "stdout",
     "output_type": "stream",
     "text": [
      "0.08747365329968676\n",
      "0.13140880495182672\n"
     ]
    }
   ],
   "source": [
    "test_value_b, p_value_b = stats.kstest(b, cdf='norm', args=(average_b, standard_deviation_b), N=len(b))\n",
    "print(test_value_b)\n",
    "print(p_value_b)"
   ]
  },
  {
   "cell_type": "code",
   "execution_count": 47,
   "id": "f2f5dfd2",
   "metadata": {},
   "outputs": [
    {
     "name": "stdout",
     "output_type": "stream",
     "text": [
      "The test presented with 95% confidence that the data behaved like a normal distribution.\n"
     ]
    }
   ],
   "source": [
    "if p_value_b > 0.05:\n",
    "    print(\"The test presented with 95% confidence that the data behaved like a normal distribution.\")\n",
    "else:\n",
    "    print(\"The test presented with 95% confidence that the data did not behave like a normal distribution.\")"
   ]
  },
  {
   "cell_type": "markdown",
   "id": "7100a2e6",
   "metadata": {},
   "source": [
    "### Fourth - Do the Pearson test "
   ]
  },
  {
   "cell_type": "code",
   "execution_count": 50,
   "id": "41cb23d6",
   "metadata": {},
   "outputs": [
    {
     "name": "stdout",
     "output_type": "stream",
     "text": [
      "The test value Pearson Correlation = 0.07997404125601358\n",
      "p value of Pearson Correlation = 0.2941746102323235\n"
     ]
    }
   ],
   "source": [
    "r_value, p_value_Pearson = stats.mstats.pearsonr(a, b)\n",
    "print (\"The test value Pearson Correlation = \" + str(r_value))\n",
    "print (\"p value of Pearson Correlation = \" + str(p_value_Pearson))"
   ]
  },
  {
   "cell_type": "markdown",
   "id": "f604df7a",
   "metadata": {},
   "source": [
    "### Conclusion"
   ]
  },
  {
   "cell_type": "code",
   "execution_count": 51,
   "id": "6f638d88",
   "metadata": {},
   "outputs": [
    {
     "name": "stdout",
     "output_type": "stream",
     "text": [
      "since the p-value was above 0.05, we must accept the null hypothesis and reject the alternative hypothesis.\n"
     ]
    }
   ],
   "source": [
    "if p_value_Pearson < 0.05:\n",
    "    print(\"As the p-value was below 0.05, we must reject the null hypothesis and accept the hypothesis alternative.\")\n",
    "else:\n",
    "    print(\"Since the p-value was above 0.05, we must accept the null hypothesis and reject the alternative hypothesis.\")"
   ]
  },
  {
   "cell_type": "code",
   "execution_count": null,
   "id": "d7420a25",
   "metadata": {},
   "outputs": [],
   "source": []
  }
 ],
 "metadata": {
  "kernelspec": {
   "display_name": "Python 3 (ipykernel)",
   "language": "python",
   "name": "python3"
  },
  "language_info": {
   "codemirror_mode": {
    "name": "ipython",
    "version": 3
   },
   "file_extension": ".py",
   "mimetype": "text/x-python",
   "name": "python",
   "nbconvert_exporter": "python",
   "pygments_lexer": "ipython3",
   "version": "3.9.7"
  }
 },
 "nbformat": 4,
 "nbformat_minor": 5
}
